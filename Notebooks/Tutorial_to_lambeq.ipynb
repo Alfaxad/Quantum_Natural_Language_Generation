{
  "nbformat": 4,
  "nbformat_minor": 0,
  "metadata": {
    "colab": {
      "provenance": []
    },
    "kernelspec": {
      "name": "python3",
      "display_name": "Python 3"
    },
    "language_info": {
      "name": "python"
    },
    "accelerator": "GPU",
    "gpuClass": "standard"
  },
  "cells": [
    {
      "cell_type": "markdown",
      "source": [
        "**Meaning Classification with lambeq QNLP Toolkit**\n",
        "\n",
        "Quantum Pipeline Simulation\n",
        "\n",
        "This tutorial is based on - https://github.com/CQCL/lambeq/blob/main/docs/examples/quantum_pipeline_tket.ipynb"
      ],
      "metadata": {
        "id": "ryviqQLrsze3"
      }
    },
    {
      "cell_type": "markdown",
      "source": [
        "There are total 130 sentences in the data set where the training set has 70, development set has 30 and test set has 30. There are two kinds of sentences available which are related to either Maths or Music. This is a binary senence classification problem."
      ],
      "metadata": {
        "id": "1Lxm_NHEtSgk"
      }
    },
    {
      "cell_type": "code",
      "metadata": {
        "colab": {
          "base_uri": "https://localhost:8080/"
        },
        "id": "R8Ed0r8zfSwz",
        "outputId": "5bb6d177-76f9-414e-ff88-779aa5e8f51a"
      },
      "source": [
        "from google.colab import drive\n",
        "drive.mount('/content/drive', force_remount=True)"
      ],
      "execution_count": 35,
      "outputs": [
        {
          "output_type": "stream",
          "name": "stdout",
          "text": [
            "Mounted at /content/drive\n"
          ]
        }
      ]
    },
    {
      "cell_type": "markdown",
      "source": [
        "**Installing necessary libraries**"
      ],
      "metadata": {
        "id": "MaGjHUWsxIEg"
      }
    },
    {
      "cell_type": "code",
      "metadata": {
        "id": "4AcD7H1YUJDJ"
      },
      "source": [
        "#! pip install lambeq"
      ],
      "execution_count": 3,
      "outputs": []
    },
    {
      "cell_type": "code",
      "metadata": {
        "id": "wDVbfH2MR5lN"
      },
      "source": [
        "#! pip install lambeq[depccg]"
      ],
      "execution_count": 27,
      "outputs": []
    },
    {
      "cell_type": "code",
      "metadata": {
        "id": "vj6kcQ2jR8iR"
      },
      "source": [
        "#! pip install cython numpy depccg"
      ],
      "execution_count": 18,
      "outputs": []
    },
    {
      "cell_type": "code",
      "metadata": {
        "id": "IrA9UGEFNbxQ"
      },
      "source": [
        "#!pip install pytket-qiskit"
      ],
      "execution_count": 11,
      "outputs": []
    },
    {
      "cell_type": "code",
      "metadata": {
        "id": "3ciD8V2KON7B"
      },
      "source": [
        "#!pip install noisyopt"
      ],
      "execution_count": 13,
      "outputs": []
    },
    {
      "cell_type": "code",
      "source": [
        "#! depccg_en download"
      ],
      "metadata": {
        "id": "dzxrpeRNt9s-"
      },
      "execution_count": 36,
      "outputs": []
    },
    {
      "cell_type": "markdown",
      "source": [
        "**Reading the dataset and storing it in separate variables**"
      ],
      "metadata": {
        "id": "c1e5vX3BvLPo"
      }
    },
    {
      "cell_type": "code",
      "metadata": {
        "id": "7Z7kn_CAU4J4"
      },
      "source": [
        "import numpy as np\n",
        "\n",
        "def read_data(filename):\n",
        "    labels, sentences = [], []\n",
        "    with open(filename) as f:\n",
        "        for line in f:\n",
        "            labels.append([1, 0] if line[0] == '1' else [0, 1])\n",
        "            sentences.append(line[1:].strip())\n",
        "    return np.array(labels), sentences\n",
        "\n",
        "\n",
        "train_labels, train_data = read_data('/content/drive/MyDrive/mm_mc_train_data.txt')\n",
        "dev_labels, dev_data = read_data('/content/drive/MyDrive/mm_mc_dev_data.txt')\n",
        "test_labels, test_data = read_data('/content/drive/MyDrive/mm_mc_test_data.txt')"
      ],
      "execution_count": 1,
      "outputs": []
    },
    {
      "cell_type": "code",
      "source": [
        "#!pip install lambeq[extras]"
      ],
      "metadata": {
        "id": "ZZdG_Bwuufdk"
      },
      "execution_count": 24,
      "outputs": []
    },
    {
      "cell_type": "code",
      "source": [
        "!python /content/drive/MyDrive/download_depccg_model.py"
      ],
      "metadata": {
        "colab": {
          "base_uri": "https://localhost:8080/"
        },
        "id": "9yh8zUf4wH8R",
        "outputId": "a5ad0623-c7f5-405d-e0af-e6aac29ecbc3"
      },
      "execution_count": 38,
      "outputs": [
        {
          "output_type": "stream",
          "name": "stdout",
          "text": [
            "2023-02-28 06:48:31.123764: W tensorflow/compiler/xla/stream_executor/platform/default/dso_loader.cc:64] Could not load dynamic library 'libnvinfer.so.7'; dlerror: libnvinfer.so.7: cannot open shared object file: No such file or directory; LD_LIBRARY_PATH: /usr/lib64-nvidia\n",
            "2023-02-28 06:48:31.123896: W tensorflow/compiler/xla/stream_executor/platform/default/dso_loader.cc:64] Could not load dynamic library 'libnvinfer_plugin.so.7'; dlerror: libnvinfer_plugin.so.7: cannot open shared object file: No such file or directory; LD_LIBRARY_PATH: /usr/lib64-nvidia\n",
            "2023-02-28 06:48:31.123917: W tensorflow/compiler/tf2tensorrt/utils/py_utils.cc:38] TF-TRT Warning: Cannot dlopen some TensorRT libraries. If you would like to use Nvidia GPU with TensorRT, please make sure the missing libraries mentioned above are installed properly.\n",
            "Please consider using Bobcat, the parser included with lambeq,\n",
            "instead of depccg.\n",
            "Downloading model... 100.0% of 198.4 MB\n",
            "Extracting model...\n",
            "Download successful\n"
          ]
        }
      ]
    },
    {
      "cell_type": "markdown",
      "source": [
        "**Parsing the sentences and converting them into string diagrams**"
      ],
      "metadata": {
        "id": "JHJF5OrPvUWS"
      }
    },
    {
      "cell_type": "code",
      "source": [],
      "metadata": {
        "id": "3e9sQiCZzN9L"
      },
      "execution_count": null,
      "outputs": []
    },
    {
      "cell_type": "code",
      "source": [],
      "metadata": {
        "id": "sjSBT5uyzNq8"
      },
      "execution_count": null,
      "outputs": []
    },
    {
      "cell_type": "code",
      "source": [],
      "metadata": {
        "id": "vQcuwH5WzNTx"
      },
      "execution_count": null,
      "outputs": []
    },
    {
      "cell_type": "code",
      "metadata": {
        "id": "YJKl1OtvWudw",
        "colab": {
          "base_uri": "https://localhost:8080/"
        },
        "outputId": "d77f3b2f-60fe-4720-a2e5-c7b3ae9a869e"
      },
      "source": [
        "from lambeq import BobcatParser\n",
        "\n",
        "parser = BobcatParser(verbose='text')\n",
        "\n",
        "raw_train_diagrams = parser.sentences2diagrams(train_data)\n",
        "raw_dev_diagrams = parser.sentences2diagrams(dev_data)\n",
        "raw_test_diagrams = parser.sentences2diagrams(test_data)"
      ],
      "execution_count": 2,
      "outputs": [
        {
          "output_type": "stream",
          "name": "stderr",
          "text": [
            "Tagging sentences.\n",
            "Parsing tagged sentences.\n",
            "Turning parse trees to diagrams.\n",
            "Tagging sentences.\n",
            "Parsing tagged sentences.\n",
            "Turning parse trees to diagrams.\n",
            "Tagging sentences.\n",
            "Parsing tagged sentences.\n",
            "Turning parse trees to diagrams.\n"
          ]
        }
      ]
    },
    {
      "cell_type": "markdown",
      "source": [
        "**String diagram rewriting**"
      ],
      "metadata": {
        "id": "mtJe3zRZvi2s"
      }
    },
    {
      "cell_type": "code",
      "metadata": {
        "colab": {
          "base_uri": "https://localhost:8080/",
          "height": 319
        },
        "id": "n9H5oA5BXWhG",
        "outputId": "83ce2815-a165-4f17-a00c-96a1aef87735"
      },
      "source": [
        "from discopy.rigid import Id\n",
        "\n",
        "\n",
        "def remove_cups(diagram):\n",
        "    # Remove cups to reduce post-selection in the circuit, for faster execution\n",
        "\n",
        "    diags = []\n",
        "    for box, offset in zip(diagram.boxes, diagram.offsets):\n",
        "        if not box.dom:  # word box\n",
        "            diags.insert(offset, box)\n",
        "        else:  # cup (the only other type of box in these diagrams)\n",
        "            i = 0\n",
        "            off = offset\n",
        "            while off != len(diags[i].cod) - 1:\n",
        "                assert off > 0\n",
        "                off -= len(diags[i].cod)\n",
        "                i += 1\n",
        "            left, right = diags[i:i+2]\n",
        "            \n",
        "            if len(left.cod) == 1:\n",
        "                new_diag = right >> (left.r.dagger() @ Id(right.cod[1:]))\n",
        "            else:\n",
        "                assert len(right.cod) == 1\n",
        "                new_diag = left >> (Id(left.cod[:-1]) @ right.l.dagger())\n",
        "\n",
        "            diags[i:i+2] = [new_diag]\n",
        "\n",
        "    assert len(diags) == 1\n",
        "    return diags[0]\n",
        "\n",
        "\n",
        "train_diagrams = [remove_cups(diagram) for diagram in raw_train_diagrams]\n",
        "dev_diagrams = [remove_cups(diagram) for diagram in raw_dev_diagrams]\n",
        "test_diagrams = [remove_cups(diagram) for diagram in raw_test_diagrams]\n",
        "\n",
        "train_diagrams[0].draw()"
      ],
      "execution_count": 4,
      "outputs": [
        {
          "output_type": "display_data",
          "data": {
            "text/plain": [
              "<Figure size 432x288 with 1 Axes>"
            ],
            "image/png": "[encoded data removed]"
          },
          "metadata": {}
        }
      ]
    },
    {
      "cell_type": "markdown",
      "source": [
        "**Conversion of each diagram into a quantum circuit**"
      ],
      "metadata": {
        "id": "OUNUGAf0vnvY"
      }
    },
    {
      "cell_type": "code",
      "metadata": {
        "colab": {
          "base_uri": "https://localhost:8080/",
          "height": 895
        },
        "id": "SHceVH8hYkdA",
        "outputId": "d88f10f3-ed26-4d31-e93a-dce0d010d2b2"
      },
      "source": [
        "from lambeq import IQPAnsatz\n",
        "from lambeq.core.types import AtomicType\n",
        "\n",
        "ansatz = IQPAnsatz({AtomicType.NOUN: 1, AtomicType.SENTENCE: 1},\n",
        "                   n_layers=1, n_single_qubit_params=3)\n",
        "\n",
        "train_circuits = [ansatz(diagram) for diagram in train_diagrams]\n",
        "dev_circuits =  [ansatz(diagram) for diagram in dev_diagrams]\n",
        "test_circuits = [ansatz(diagram) for diagram in test_diagrams]\n",
        "\n",
        "train_circuits[0].draw(figsize=(9, 12))"
      ],
      "execution_count": 5,
      "outputs": [
        {
          "output_type": "display_data",
          "data": {
            "text/plain": [
              "<Figure size 648x864 with 1 Axes>"
            ],
            "image/png": "[encoded data removed]"
          },
          "metadata": {}
        }
      ]
    },
    {
      "cell_type": "markdown",
      "source": [
        "**Sorting the symbols in quantum circuits to collect the parameters**"
      ],
      "metadata": {
        "id": "2Kzavy-Gv9lM"
      }
    },
    {
      "cell_type": "code",
      "metadata": {
        "id": "AHbFpH4QYqNZ"
      },
      "source": [
        "from sympy import default_sort_key\n",
        "\n",
        "all_circuits = train_circuits + dev_circuits + test_circuits\n",
        "\n",
        "# sort the symbols since they are returned as a set\n",
        "parameters = sorted(\n",
        "    {s for circ in all_circuits for s in circ.free_symbols},\n",
        "    key=default_sort_key)"
      ],
      "execution_count": 6,
      "outputs": []
    },
    {
      "cell_type": "markdown",
      "source": [
        "**Defining the quantum simulator**"
      ],
      "metadata": {
        "id": "r3rtRH7rwJq3"
      }
    },
    {
      "cell_type": "code",
      "metadata": {
        "id": "bOkSNH4fYuzo"
      },
      "source": [
        "## CONFIGURE BACKEND\n",
        "# This uses Qiskit, which requires installing `pytket-qiskit`.\n",
        "# For more information on how to use pytket with different backends, see:\n",
        "# https://cqcl.github.io/pytket/build/html/extensions/\n",
        "\n",
        "# Aer is a shots-based backend that is always available.\n",
        "\n",
        "from pytket.extensions.qiskit import AerBackend\n",
        "backend = AerBackend()\n",
        "\n",
        "## Having an IBMQ account gives access to the IBM emulator for noisy simulations:\n",
        "#\n",
        "# from pytket.extensions.qiskit import IBMQEmulatorBackend\n",
        "# backend = IBMQEmulatorBackend('PLACEHOLDER')\n",
        "#\n",
        "## To use a real device:\n",
        "#\n",
        "# from pytket.extensions.qiskit import IBMQBackend\n",
        "# backend = IBMQBackend('PLACEHOLDER')\n",
        "\n",
        "backend_config = {\n",
        "    'backend': backend,\n",
        "    'compilation': backend.default_compilation_pass(2),\n",
        "    'n_shots': 8192  # maximum recommended shots, reduces sampling error\n",
        "}"
      ],
      "execution_count": 7,
      "outputs": []
    },
    {
      "cell_type": "markdown",
      "source": [
        "**Making predictions from the quantum circuits**"
      ],
      "metadata": {
        "id": "lfyiDBJKwO42"
      }
    },
    {
      "cell_type": "code",
      "metadata": {
        "id": "Zm8GkivxY1JT"
      },
      "source": [
        "from discopy.quantum import Circuit, Id, Measure\n",
        "\n",
        "\n",
        "def randint(rng, low=-1 << 63, high=1 << 63-1):\n",
        "    return rng.integers(low, high)\n",
        "\n",
        "\n",
        "def normalise(predictions):\n",
        "    # apply smoothing to predictions\n",
        "    predictions = np.abs(predictions) + 1e-9\n",
        "    return predictions / predictions.sum()\n",
        "\n",
        "\n",
        "def make_pred_fn(circuits, rng):\n",
        "    measured_circuits = [c >> Id().tensor(*[Measure()] * len(c.cod)) for c in circuits]\n",
        "    circuit_fns = [c.lambdify(*parameters) for c in measured_circuits]\n",
        "\n",
        "    def predict(params):\n",
        "        outputs = Circuit.eval(*(c_fn(*params) for c_fn in circuit_fns),\n",
        "                               **backend_config, seed=randint(rng))\n",
        "        return np.array([normalise(output.array) for output in outputs])\n",
        "    return predict\n",
        "\n",
        "\n",
        "SEED = 0\n",
        "rng = np.random.default_rng(SEED)\n",
        "\n",
        "train_pred_fn = make_pred_fn(train_circuits, rng)\n",
        "dev_pred_fn = make_pred_fn(dev_circuits, rng)\n",
        "test_pred_fn = make_pred_fn(test_circuits, rng)"
      ],
      "execution_count": 8,
      "outputs": []
    },
    {
      "cell_type": "markdown",
      "source": [
        "**Calculating cost function, accuracy and optimizing the circuit parameters**"
      ],
      "metadata": {
        "id": "YMzEttH7wYYh"
      }
    },
    {
      "cell_type": "code",
      "metadata": {
        "id": "WeVvpdSRY561"
      },
      "source": [
        "from noisyopt import minimizeSPSA\n",
        "\n",
        "def make_cost_fn(pred_fn, labels):\n",
        "    def cost_fn(params, **kwargs):\n",
        "        predictions = pred_fn(params)\n",
        "\n",
        "        cost = -np.sum(labels * np.log(predictions)) / len(labels)  # binary cross-entropy loss\n",
        "        costs.append(cost)\n",
        "\n",
        "        acc = np.sum(np.round(predictions) == labels) / len(labels) / 2  # half due to double-counting\n",
        "        accuracies.append(acc)\n",
        "\n",
        "        return cost\n",
        "\n",
        "    costs, accuracies = [], []\n",
        "    return cost_fn, costs, accuracies\n",
        "\n",
        "\n",
        "train_cost_fn, train_costs, train_accs = make_cost_fn(train_pred_fn, train_labels)\n",
        "dev_cost_fn, dev_costs, dev_accs = make_cost_fn(dev_pred_fn, dev_labels)\n",
        "\n",
        "x0 = np.array(rng.random(len(parameters)))\n",
        "np.random.seed(SEED)\n",
        "result = minimizeSPSA(train_cost_fn, x0=x0, a=0.2, c=0.06, niter=80, callback=dev_cost_fn)"
      ],
      "execution_count": 9,
      "outputs": []
    },
    {
      "cell_type": "markdown",
      "source": [
        "**Plotting the training & development set results**"
      ],
      "metadata": {
        "id": "Ar0jTfNGwv2y"
      }
    },
    {
      "cell_type": "code",
      "metadata": {
        "id": "gV1Ul7PcY9Cp",
        "colab": {
          "base_uri": "https://localhost:8080/",
          "height": 421
        },
        "outputId": "673ef8c0-2198-4a21-d10c-dac8cbf53dc3"
      },
      "source": [
        "import matplotlib.pyplot as plt\n",
        "\n",
        "fig, ((ax_tl, ax_tr), (ax_bl, ax_br)) = plt.subplots(2, 2, sharex=True, sharey='row', figsize=(10, 6))\n",
        "ax_tl.set_title('Training set')\n",
        "ax_tr.set_title('Development set')\n",
        "ax_bl.set_xlabel('Iterations')\n",
        "ax_br.set_xlabel('Iterations')\n",
        "ax_bl.set_ylabel('Accuracy')\n",
        "ax_tl.set_ylabel('Loss')\n",
        "\n",
        "colours = iter(plt.rcParams['axes.prop_cycle'].by_key()['color'])\n",
        "ax_tl.plot(train_costs[1::2], color=next(colours))  # training evaluates twice per iteration\n",
        "ax_bl.plot(train_accs[1::2], color=next(colours))   # so take every other entry\n",
        "ax_tr.plot(dev_costs, color=next(colours))\n",
        "ax_br.plot(dev_accs, color=next(colours))\n",
        "\n",
        "# print test accuracy\n",
        "test_cost_fn, _, test_accs = make_cost_fn(test_pred_fn, test_labels)\n",
        "test_cost_fn(result.x)\n",
        "print('Test accuracy:', test_accs[0])"
      ],
      "execution_count": 10,
      "outputs": [
        {
          "output_type": "stream",
          "name": "stdout",
          "text": [
            "Test accuracy: 0.8666666666666667\n"
          ]
        },
        {
          "output_type": "display_data",
          "data": {
            "text/plain": [
              "<Figure size 720x432 with 4 Axes>"
            ],
            "image/png": "[encoded data removed]"
          },
          "metadata": {
            "needs_background": "light"
          }
        }
      ]
    },
    {
      "cell_type": "code",
      "metadata": {
        "id": "Lb_j0wXQZTjX"
      },
      "source": [],
      "execution_count": null,
      "outputs": []
    }
  ]
}